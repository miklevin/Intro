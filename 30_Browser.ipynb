{
 "cells": [
  {
   "cell_type": "markdown",
   "id": "09dc28ce-b00e-4638-b3ab-25c6124c11d3",
   "metadata": {},
   "source": [
    "# Screenshot Google Search with SGE\n",
    "\n",
    "- Before running this, your Linux Google Chrome should have been run once to configure it.\n",
    "- Open a Linux Shell and type: `google-chrome`\n",
    "- Login and configure it to skip the user selection screen.\n",
    "- Close out of it and return here an run this Notebook.\n",
    "- Videos of the search will be reachable Windows-side at `%USERPROFILE%\\repos\\intro\\videos`"
   ]
  },
  {
   "cell_type": "code",
   "execution_count": null,
   "id": "108e1627-b8a4-463f-8b1c-fe01f868bf07",
   "metadata": {},
   "outputs": [],
   "source": [
    "import os\n",
    "import time\n",
    "import asyncio\n",
    "from playwright.async_api import Playwright, async_playwright\n",
    "\n",
    "\n",
    "search_term = \"Write a Python Hello World program\"\n",
    "\n",
    "headless = False\n",
    "slow_mo = 100\n",
    "width = 1920\n",
    "height = 1080\n",
    "video_folder = \"videos\"\n",
    "min_file_size = 30 * 1024  # Number of Kilobytes\n",
    "days_old = 7"
   ]
  },
  {
   "cell_type": "code",
   "execution_count": null,
   "id": "22bdfb5e-65ec-43ab-a30f-cc4962c9bdf0",
   "metadata": {},
   "outputs": [],
   "source": [
    "async with async_playwright() as p:\n",
    "    playwright = await async_playwright().start()\n",
    "    browser = await playwright.chromium.launch_persistent_context(\n",
    "        accept_downloads=True,\n",
    "        args=[\"--window-position=100,100\"],\n",
    "        channel=\"chrome\",\n",
    "        downloads_path=\"/home/ubuntu/Downloads\",\n",
    "        executable_path=\"/usr/bin/google-chrome\",\n",
    "        headless=headless,\n",
    "        no_viewport=False,\n",
    "        record_video_dir=video_folder,\n",
    "        record_video_size={\"width\": width, \"height\": height},\n",
    "        slow_mo=slow_mo,\n",
    "        user_data_dir=\"/home/ubuntu/.config/google-chrome/\",\n",
    "        viewport={\"width\": width, \"height\": height},\n",
    "    )\n",
    "    \n",
    "    page = await browser.new_page()\n",
    "    await page.goto(\"https://www.google.com/\")\n",
    "    await page.get_by_label(\"Search\", exact=True).fill(search_term)\n",
    "    await page.get_by_label(\"Google Search\").first.click()\n",
    "    await page.wait_for_load_state(\"domcontentloaded\")\n",
    "    await asyncio.sleep(4)\n",
    "    # await page.screenshot(path=\"screenshot.png\")\n",
    "    await browser.close()"
   ]
  },
  {
   "cell_type": "code",
   "execution_count": null,
   "id": "9594520e-5b92-409f-a24b-ecc8a6137cf6",
   "metadata": {},
   "outputs": [],
   "source": [
    "# Delete files older than a week\n",
    "for filename in os.listdir(video_folder):\n",
    "    file_path = os.path.join(video_folder, filename)\n",
    "    if os.path.isfile(file_path):\n",
    "        last_modified = os.path.getmtime(file_path)\n",
    "        now = time.time()\n",
    "        if now - last_modified > days_old * 24 * 60 * 60:\n",
    "            os.remove(file_path)\n",
    "            print(f\"Deleted: {file_path}\")\n",
    "\n",
    "# Delete files smaller than a minimum\n",
    "for filename in os.listdir(video_folder):\n",
    "    file_path = os.path.join(video_folder, filename)\n",
    "    if os.path.isfile(file_path):\n",
    "        if os.path.getsize(file_path) < min_file_size:\n",
    "            os.remove(file_path)\n",
    "            print(f\"Deleted: {file_path}\")"
   ]
  },
  {
   "cell_type": "code",
   "execution_count": null,
   "id": "76849a42-9b8b-4ffe-b7ad-3272e1f02efe",
   "metadata": {},
   "outputs": [],
   "source": []
  },
  {
   "cell_type": "code",
   "execution_count": null,
   "id": "6518fff4-57d3-439c-8b64-97327c179f44",
   "metadata": {},
   "outputs": [],
   "source": []
  }
 ],
 "metadata": {
  "kernelspec": {
   "display_name": "Python 3 (ipykernel)",
   "language": "python",
   "name": "python3"
  },
  "language_info": {
   "codemirror_mode": {
    "name": "ipython",
    "version": 3
   },
   "file_extension": ".py",
   "mimetype": "text/x-python",
   "name": "python",
   "nbconvert_exporter": "python",
   "pygments_lexer": "ipython3"
  }
 },
 "nbformat": 4,
 "nbformat_minor": 5
}
