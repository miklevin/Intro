{
 "cells": [
  {
   "cell_type": "code",
   "execution_count": null,
   "id": "0474db0c-0d92-4236-bfc6-661cf0ddde69",
   "metadata": {},
   "outputs": [],
   "source": [
    "import os\n",
    "import sys\n",
    "import platform"
   ]
  },
  {
   "cell_type": "code",
   "execution_count": null,
   "id": "2fd6bda3-20b9-4541-af84-c1e3f07cfbf4",
   "metadata": {},
   "outputs": [],
   "source": [
    "sys.platform"
   ]
  },
  {
   "cell_type": "code",
   "execution_count": null,
   "id": "beb2953d-1bcd-49e2-8ffb-0e5500c2b294",
   "metadata": {},
   "outputs": [],
   "source": [
    "sys.version"
   ]
  },
  {
   "cell_type": "code",
   "execution_count": null,
   "id": "e9efad4d-1323-40fd-82e8-36e0babe957e",
   "metadata": {},
   "outputs": [],
   "source": [
    "print(\"Home Directory:\", os.getenv('HOME'))"
   ]
  },
  {
   "cell_type": "code",
   "execution_count": null,
   "id": "59083cdd-c5d4-475e-862d-eeb135865fb3",
   "metadata": {},
   "outputs": [],
   "source": [
    "sys.executable"
   ]
  },
  {
   "cell_type": "code",
   "execution_count": null,
   "id": "44207ba9-5ef3-4c3a-940a-774b0aa24a63",
   "metadata": {},
   "outputs": [],
   "source": [
    "print(\"File Separator:\", os.path.sep)"
   ]
  },
  {
   "cell_type": "code",
   "execution_count": null,
   "id": "dd257b02-3ec4-4dc1-a4ff-fa980a605aa3",
   "metadata": {},
   "outputs": [],
   "source": [
    "for key, value in os.environ.items():\n",
    "    print(f\"{key}: {value}\")\n",
    "    print()"
   ]
  },
  {
   "cell_type": "code",
   "execution_count": null,
   "id": "f0da11af-5ae8-40d7-9bb1-ecacf85e3d52",
   "metadata": {},
   "outputs": [],
   "source": [
    "for item in dir(platform):\n",
    "    if item[0] != \"_\":\n",
    "        value = eval(f\"platform.{item}\")\n",
    "        if callable(value):\n",
    "            try:\n",
    "                print(f\"{item}: {value()}\")\n",
    "                print()\n",
    "            except:\n",
    "                ..."
   ]
  },
  {
   "cell_type": "code",
   "execution_count": null,
   "id": "c8552d8d-c00f-4a4c-aee1-74bff951936f",
   "metadata": {},
   "outputs": [],
   "source": []
  }
 ],
 "metadata": {
  "kernelspec": {
   "display_name": "Python 3 (ipykernel)",
   "language": "python",
   "name": "python3"
  },
  "language_info": {
   "codemirror_mode": {
    "name": "ipython",
    "version": 3
   },
   "file_extension": ".py",
   "mimetype": "text/x-python",
   "name": "python",
   "nbconvert_exporter": "python",
   "pygments_lexer": "ipython3"
  }
 },
 "nbformat": 4,
 "nbformat_minor": 5
}
