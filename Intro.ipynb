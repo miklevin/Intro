{
 "cells": [
  {
   "cell_type": "markdown",
   "id": "3561d3a6-7a19-407e-8e7d-d2e2e9b2d099",
   "metadata": {},
   "source": [
    "# Introduction to MyKoz.AI"
   ]
  },
  {
   "cell_type": "code",
   "execution_count": null,
   "id": "1e853463-5cbe-4bf4-a521-5fdb15a5831a",
   "metadata": {},
   "outputs": [],
   "source": []
  }
 ],
 "metadata": {
  "kernelspec": {
   "display_name": "Python 3 (ipykernel)",
   "language": "python",
   "name": "python3"
  },
  "language_info": {
   "codemirror_mode": {
    "name": "ipython",
    "version": 3
   },
   "file_extension": ".py",
   "mimetype": "text/x-python",
   "name": "python",
   "nbconvert_exporter": "python",
   "pygments_lexer": "ipython3"
  }
 },
 "nbformat": 4,
 "nbformat_minor": 5
}
