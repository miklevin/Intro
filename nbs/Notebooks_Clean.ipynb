{
 "cells": [
  {
   "cell_type": "code",
   "execution_count": null,
   "id": "3fe68432-0d98-4dee-a627-ee2d2c6f6b17",
   "metadata": {},
   "outputs": [],
   "source": [
    "from os import getcwd\n",
    "from shlex import split\n",
    "from pathlib import Path\n",
    "from subprocess import call\n",
    "\n",
    "for notebook in Path().glob(\"*.ipynb\"):\n",
    "    command = f\"/home/ubuntu/pyenv/bin/nb-clean clean {getcwd()}/{notebook}\"\n",
    "    print(f\"Cleaning: {command.split()[-1]}\")\n",
    "    call(split(command))\n",
    "print(\"Done\")"
   ]
  },
  {
   "cell_type": "code",
   "execution_count": null,
   "id": "5e8178e5-4c09-46e2-aa15-814e6a121d27",
   "metadata": {},
   "outputs": [],
   "source": []
  }
 ],
 "metadata": {
  "kernelspec": {
   "display_name": "python3",
   "language": "python",
   "name": "python3"
  }
 },
 "nbformat": 4,
 "nbformat_minor": 5
}
