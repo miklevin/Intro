{
 "cells": [
  {
   "cell_type": "markdown",
   "id": "09dc28ce-b00e-4638-b3ab-25c6124c11d3",
   "metadata": {},
   "source": [
    "# FOSS SEO: Record Chatbot (Conversational Search)\n",
    "\n",
    "1. Run `google-chrome` at least once from Linux Shell to configure Chrome.\n",
    "2. From Linux Chrome, log into a Google and Bing with desired user account.\n",
    "3. Run this Notebook. Videos at `%USERPROFILE%\\repos\\intro\\videos` (copy/paste into File Explorer)"
   ]
  },
  {
   "cell_type": "code",
   "execution_count": null,
   "id": "63816c64-7ffe-4389-bcb9-0ccb2bec7ca2",
   "metadata": {},
   "outputs": [],
   "source": [
    "#| default_exp chatbot"
   ]
  },
  {
   "cell_type": "code",
   "execution_count": null,
   "id": "f58bd88a-c00c-43e4-8a25-a2367692dcf0",
   "metadata": {},
   "outputs": [],
   "source": [
    "#| export\n",
    "\n",
    "import asyncio\n",
    "import nest_asyncio\n",
    "from playwright.async_api import async_playwright\n",
    "\n",
    "# Set your keyword search, query or prompt: \n",
    "prompt = \"Write a Python Hello World program\"\n",
    "\n",
    "headless = False\n",
    "slow_mo = 100\n",
    "width = 1920\n",
    "height = 1080\n",
    "video_folder = \"/home/ubuntu/repos/intro/videos\"\n",
    "days_old = 7\n",
    "short_delay = 2\n",
    "long_delay = 6\n",
    "\n",
    "# Create a new event loop (necessary for Playwright in Juptyer)\n",
    "nest_asyncio.apply()\n",
    "loop = asyncio.get_event_loop()\n",
    "new_loop = asyncio.new_event_loop()\n",
    "asyncio.set_event_loop(new_loop)\n",
    "\n",
    "async def browser_automation():\n",
    "    \"\"\"Records Google and Bing conversational web search as video.\"\"\"\n",
    "\n",
    "    async with async_playwright() as p:\n",
    "        playwright = await async_playwright().start()\n",
    "        browser = await playwright.chromium.launch_persistent_context(\n",
    "            accept_downloads=True,\n",
    "            args=[\"--window-position=100,100\"],\n",
    "            channel=\"chrome\",\n",
    "            downloads_path=\"/home/ubuntu/Downloads\",\n",
    "            executable_path=\"/usr/bin/google-chrome\",\n",
    "            headless=headless,\n",
    "            no_viewport=False,\n",
    "            record_video_dir=video_folder,\n",
    "            record_video_size={\"width\": width, \"height\": height},\n",
    "            slow_mo=slow_mo,\n",
    "            user_data_dir=\"/home/ubuntu/.config/google-chrome/\",\n",
    "            viewport={\"width\": width, \"height\": height},\n",
    "        )\n",
    "\n",
    "        # Open the browser window\n",
    "        page = await browser.new_page()\n",
    "        \n",
    "        # Perform a Google Search\n",
    "        await page.goto(\"https://www.google.com/\")\n",
    "        await asyncio.sleep(short_delay)\n",
    "        await page.get_by_label(\"Search\", exact=True).click()\n",
    "        await page.get_by_label(\"Search\", exact=True).fill(prompt)\n",
    "        await page.get_by_label(\"Search\", exact=True).press(\"Escape\")\n",
    "        await page.get_by_role(\"button\", name=\"Google Search\").click()\n",
    "        await asyncio.sleep(long_delay)\n",
    "\n",
    "        # Perform a Bing Search\n",
    "        await page.goto(\"https://www.bing.com/\")\n",
    "        await asyncio.sleep(short_delay)\n",
    "        await page.get_by_placeholder(\"Search the web\").click()\n",
    "        await page.get_by_placeholder(\"Search the web\").fill(prompt)\n",
    "        await page.get_by_placeholder(\"Search the web\").press(\"Escape\")\n",
    "        await page.locator(\"#search_icon svg\").click()\n",
    "        await asyncio.sleep(long_delay)\n",
    "\n",
    "        await browser.close()\n",
    "\n",
    "# Set the new event loop as the current event loop\n",
    "asyncio.run(browser_automation())"
   ]
  },
  {
   "cell_type": "code",
   "execution_count": null,
   "id": "9594520e-5b92-409f-a24b-ecc8a6137cf6",
   "metadata": {},
   "outputs": [
    {
     "name": "stdout",
     "output_type": "stream",
     "text": [
      "Deleted: /home/ubuntu/repos/intro/videos/f283a0a241f4b86f4b30531f099a3138.webm\n"
     ]
    }
   ],
   "source": [
    "#| export\n",
    "\n",
    "import os\n",
    "import time\n",
    "\n",
    "\n",
    "min_file_size = 150 * 1024  # Number of Kilobytes\n",
    "\n",
    "# Delete files older than a week\n",
    "for filename in os.listdir(video_folder):\n",
    "    file_path = os.path.join(video_folder, filename)\n",
    "    if os.path.isfile(file_path):\n",
    "        last_modified = os.path.getmtime(file_path)\n",
    "        now = time.time()\n",
    "        if now - last_modified > days_old * 24 * 60 * 60:\n",
    "            os.remove(file_path)\n",
    "            print(f\"Deleted: {file_path}\")\n",
    "\n",
    "# Delete files smaller than a minimum\n",
    "for filename in os.listdir(video_folder):\n",
    "    file_path = os.path.join(video_folder, filename)\n",
    "    if os.path.isfile(file_path):\n",
    "        if os.path.getsize(file_path) < min_file_size:\n",
    "            os.remove(file_path)\n",
    "            print(f\"Deleted: {file_path}\")"
   ]
  },
  {
   "cell_type": "code",
   "execution_count": null,
   "id": "6f86bca4-c352-4634-be37-b65abeff9cad",
   "metadata": {},
   "outputs": [],
   "source": [
    "#| hide\n",
    "\n",
    "# This exports the above code as a .py file (Linux service)\n",
    "import nbdev\n",
    "\n",
    "nbdev.nbdev_export()"
   ]
  },
  {
   "cell_type": "code",
   "execution_count": null,
   "id": "219c7426-ef18-418f-a3b8-965a702eec49",
   "metadata": {},
   "outputs": [],
   "source": []
  }
 ],
 "metadata": {
  "kernelspec": {
   "display_name": "python3",
   "language": "python",
   "name": "python3"
  }
 },
 "nbformat": 4,
 "nbformat_minor": 5
}
