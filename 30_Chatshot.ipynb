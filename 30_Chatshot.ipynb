{
 "cells": [
  {
   "cell_type": "markdown",
   "id": "09dc28ce-b00e-4638-b3ab-25c6124c11d3",
   "metadata": {},
   "source": [
    "# Capture & Automate Conversational Search Videos\n",
    "\n",
    "1. Run `google-chrome` at least once from Linux Shell to configure Chrome.\n",
    "2. From Linux Chrome, log into a `google.com` and `bing.com` with desired user account.\n",
    "3. Run this Notebook. Videos at `%USERPROFILE%\\repos\\intro\\videos` (copy/paste into File Explorer)"
   ]
  },
  {
   "cell_type": "code",
   "execution_count": null,
   "id": "2e7c137f-218e-4889-9b8d-e70ce21a91e5",
   "metadata": {},
   "outputs": [],
   "source": [
    "#| default_exp chatshot\n",
    "#| export\n",
    "\n",
    "# Set your keyword search, query or prompt:\n",
    "prompt = \"Write a Hello World program in Python\"     \n",
    "slow_mo = 10\n",
    "width = 1280\n",
    "height = 1800\n",
    "short_delay = 2\n",
    "long_delay = 25\n",
    "delete_after_days_old = 7\n",
    "min_file_size = 200 * 1024  # KBs\n",
    "REPO = \"/home/ubuntu/repos/intro/\"\n",
    "video_folder = f\"{REPO}videos\""
   ]
  },
  {
   "cell_type": "markdown",
   "id": "cf8c8577-6fcb-470e-923a-5297252f7546",
   "metadata": {},
   "source": [
    "## Delete previously captured videos."
   ]
  },
  {
   "cell_type": "code",
   "execution_count": null,
   "id": "a7cb9236-b5a6-43ea-908a-f4b011c67028",
   "metadata": {},
   "outputs": [
    {
     "name": "stdout",
     "output_type": "stream",
     "text": [
      "Deleted 2023-08-28.mp4\n",
      "Deleted b60ae2bbcbbc5ceb445aa923865f2734.webm\n",
      "Deletion of all files complete.\n"
     ]
    }
   ],
   "source": [
    "#| export\n",
    "import os\n",
    "from pathlib import Path\n",
    "\n",
    "\n",
    "Path(video_folder).mkdir(exist_ok=True)\n",
    "files = os.listdir(video_folder)\n",
    "\n",
    "for file in files:\n",
    "    file_path = os.path.join(video_folder, file)\n",
    "    if os.path.isfile(file_path):\n",
    "        os.remove(file_path)\n",
    "        print(f\"Deleted {file}\")\n",
    "\n",
    "print(\"Deletion of prior video files complete.\")"
   ]
  },
  {
   "cell_type": "markdown",
   "id": "da82caaa-8bc2-4093-9951-f346380d4b61",
   "metadata": {},
   "source": [
    "## Open Google Chrome and perform searches"
   ]
  },
  {
   "cell_type": "code",
   "execution_count": null,
   "id": "e63e6e6f-a488-4464-9345-df54d818dcbe",
   "metadata": {},
   "outputs": [
    {
     "name": "stdout",
     "output_type": "stream",
     "text": [
      "Done capturing videos.\n"
     ]
    }
   ],
   "source": [
    "#| export\n",
    "import asyncio\n",
    "import nest_asyncio\n",
    "from playwright.async_api import async_playwright\n",
    "\n",
    "\n",
    "try:\n",
    "    get_ipython()\n",
    "    headless = False\n",
    "except NameError:\n",
    "    headless = True\n",
    "\n",
    "print(f\"Capturing video headless: {headless}\")\n",
    "\n",
    "# Create a new event loop (necessary for Playwright in Juptyer)\n",
    "nest_asyncio.apply()\n",
    "loop = asyncio.get_event_loop()\n",
    "new_loop = asyncio.new_event_loop()\n",
    "asyncio.set_event_loop(new_loop)\n",
    "\n",
    "\n",
    "async def browser_automation():\n",
    "    \"\"\"Records Google and Bing conversational web search as video.\"\"\"\n",
    "\n",
    "    async with async_playwright() as p:\n",
    "        playwright = await async_playwright().start()\n",
    "        browser = await playwright.chromium.launch_persistent_context(\n",
    "            accept_downloads=True,\n",
    "            args=[\"--window-position=100,100\"],\n",
    "            channel=\"chrome\",\n",
    "            downloads_path=\"/home/ubuntu/Downloads\",\n",
    "            executable_path=\"/usr/bin/google-chrome\",\n",
    "            headless=headless,\n",
    "            no_viewport=False,\n",
    "            record_video_dir=video_folder,\n",
    "            record_video_size={\"width\": width, \"height\": height},\n",
    "            slow_mo=slow_mo,\n",
    "            user_data_dir=\"/home/ubuntu/.config/google-chrome/\",\n",
    "            viewport={\"width\": width, \"height\": height},\n",
    "        )\n",
    "\n",
    "        # Open the browser window\n",
    "        page = await browser.new_page()\n",
    "\n",
    "        # Perform a Bing Search\n",
    "        placeholder = \"Ask me anything\"\n",
    "        await page.goto(\"https://www.bing.com/\")\n",
    "        await asyncio.sleep(short_delay)\n",
    "        await page.get_by_placeholder(placeholder).click()\n",
    "        await page.get_by_placeholder(placeholder).type(prompt)\n",
    "        await page.get_by_placeholder(placeholder).press(\"Enter\")\n",
    "        await asyncio.sleep(long_delay)\n",
    "\n",
    "        # Perform a Google Search\n",
    "        await page.goto(\"https://www.google.com/\")\n",
    "        await asyncio.sleep(short_delay)\n",
    "        await page.get_by_label(\"Search\", exact=True).click()\n",
    "        await page.get_by_label(\"Search\", exact=True).type(prompt)\n",
    "        await page.get_by_label(\"Search\", exact=True).press(\"Enter\")\n",
    "        await asyncio.sleep(long_delay)\n",
    "\n",
    "        await browser.close()\n",
    "        print(\"Done capturing videos.\")\n",
    "\n",
    "\n",
    "# Set the new event loop as the current event loop\n",
    "asyncio.run(browser_automation())"
   ]
  },
  {
   "cell_type": "markdown",
   "id": "22f6fc72-0a7a-4e6d-9bd4-ecac6cb5c7b1",
   "metadata": {},
   "source": [
    "## Delete extra file and convert webm to mp4"
   ]
  },
  {
   "cell_type": "code",
   "execution_count": null,
   "id": "106b4247-f13b-4f29-a93d-176a079aa2c3",
   "metadata": {},
   "outputs": [
    {
     "name": "stdout",
     "output_type": "stream",
     "text": [
      "Deleted the smallest file: /home/ubuntu/repos/intro/videos/593f02f8fcbb0fb15f267a90993f3dbd.webm\n",
      "Done deleting smallest files.\n"
     ]
    }
   ],
   "source": [
    "#| export\n",
    "video_files = [f for f in Path(video_folder).iterdir() if f.is_file()]\n",
    "\n",
    "# Deletes the smallest of multiple files.\n",
    "if len(video_files) == 1:\n",
    "    print(\"Already down to 1 file.\")\n",
    "else:\n",
    "    smallest_file = min(video_files, key=lambda f: f.stat().st_size)\n",
    "    smallest_file_path = video_folder / smallest_file\n",
    "    smallest_file_path.unlink()\n",
    "    print(f\"Deleted the smallest file: {smallest_file}\")\n",
    "\n",
    "print(\"Done deleting smallest files.\")"
   ]
  },
  {
   "cell_type": "markdown",
   "id": "c4dde058-e22e-410f-b186-d54715ae96e2",
   "metadata": {},
   "source": [
    "## Find the Newest .webm File in Folder"
   ]
  },
  {
   "cell_type": "code",
   "execution_count": null,
   "id": "b07b9c11-9482-4ea9-8d4d-dc49a1b75e47",
   "metadata": {},
   "outputs": [
    {
     "name": "stdout",
     "output_type": "stream",
     "text": [
      "Found to convert: /home/ubuntu/repos/intro/videos/ffe10f808b34de51989740314ad202b0.webm\n"
     ]
    }
   ],
   "source": [
    "#| export\n",
    "webm_files = [\n",
    "    f\n",
    "    for f in video_files\n",
    "    if f.name.lower().endswith(\".webm\") and f.is_file()\n",
    "]\n",
    "\n",
    "newest_webm_file = (\n",
    "    max(webm_files, key=lambda f: f.stat().st_mtime)\n",
    "    if webm_files\n",
    "    else None\n",
    ")\n",
    "print(f\"Found to convert: {newest_webm_file}\")"
   ]
  },
  {
   "cell_type": "markdown",
   "id": "a4fd3d66-97b3-48bc-945a-edcc1db598f6",
   "metadata": {},
   "source": [
    "## Converts webm to mp4 for iPhone compatibility"
   ]
  },
  {
   "cell_type": "code",
   "execution_count": null,
   "id": "ff41832c-009a-43a6-a8fe-c43855eb6bad",
   "metadata": {},
   "outputs": [
    {
     "name": "stdout",
     "output_type": "stream",
     "text": [
      "Done converting.\n"
     ]
    }
   ],
   "source": [
    "#| export\n",
    "import subprocess\n",
    "from datetime import date\n",
    "\n",
    "\n",
    "def convert_webm_to_mp4(input_path, output_path):\n",
    "    cmd = [\n",
    "        \"ffmpeg\",\n",
    "        \"-i\", input_path,\n",
    "        \"-c:v\", \"libx264\",\n",
    "        \"-preset\", \"slow\",\n",
    "        \"-crf\", \"40\",  # Low quality (51 = lowest)\n",
    "        \"-r\", \"15\",\n",
    "        \"-vf\", f\"setpts={1/2}*PTS\",  # Adjust playback speed using setpts filter\n",
    "        \"-an\",  # This disables audio\n",
    "        output_path\n",
    "    ]\n",
    "    \n",
    "    subprocess.run(cmd, stdout=subprocess.PIPE, stderr=subprocess.PIPE)\n",
    "\n",
    "\n",
    "output_mp4_file = f\"/home/ubuntu/repos/intro/videos/{date.today()}.mp4\"\n",
    "convert_webm_to_mp4(newest_webm_file, output_mp4_file)\n",
    "\n",
    "print(\"Done converting.\")"
   ]
  },
  {
   "cell_type": "markdown",
   "id": "c82d74aa-5590-4f9e-9f24-2085d08aab59",
   "metadata": {},
   "source": [
    "## Sends email with video as an attachment"
   ]
  },
  {
   "cell_type": "code",
   "execution_count": null,
   "id": "d62b3e63-8414-401a-89ef-49e8e5910582",
   "metadata": {},
   "outputs": [
    {
     "name": "stdout",
     "output_type": "stream",
     "text": [
      "The email from-file should be a gmail on line 1 and an App Password on line 2.\n",
      "The email to-file can be 1 email per line.\n"
     ]
    },
    {
     "ename": "SystemExit",
     "evalue": "Email credentials not found.",
     "output_type": "error",
     "traceback": [
      "An exception has occurred, use %tb to see the full traceback.\n",
      "\u001b[0;31mSystemExit\u001b[0m\u001b[0;31m:\u001b[0m Email credentials not found.\n"
     ]
    },
    {
     "name": "stderr",
     "output_type": "stream",
     "text": [
      "/home/ubuntu/pyenv/lib/python3.11/site-packages/IPython/core/interactiveshell.py:3516: UserWarning: To exit: use 'exit', 'quit', or Ctrl-D.\n",
      "  warn(\"To exit: use 'exit', 'quit', or Ctrl-D.\", stacklevel=1)\n"
     ]
    }
   ],
   "source": [
    "#| export\n",
    "import smtplib\n",
    "from email import encoders\n",
    "from datetime import datetime\n",
    "from email.mime.base import MIMEBase\n",
    "from email.mime.text import MIMEText\n",
    "from email.mime.image import MIMEImage\n",
    "from email.mime.multipart import MIMEMultipart\n",
    "\n",
    "\n",
    "from_email_txt = f\"{REPO}service/mail_from.txt\"\n",
    "to_email_txt = f\"{REPO}service/mail_to.txt\"\n",
    "\n",
    "if not Path(from_email_txt).exists() or not Path(to_email_txt).exists():\n",
    "    print(\"The email from-file should be a gmail on line 1 and an App Password on line 2.\")\n",
    "    print(\"The email to-file can be 1 email per line.\")\n",
    "    raise SystemExit(\"Email credentials not found.\")\n",
    "\n",
    "file_name = Path(output_mp4_file).name\n",
    "\n",
    "# Create the plain-text email\n",
    "msg_text = f'''{prompt}\n",
    "\n",
    "Your video recording of a Google and Bing search for {file_name} is attached.\n",
    "\n",
    "Regards'''\n",
    "\n",
    "# Create the HTML email\n",
    "msg_html = f'''<html><head></head><body><h1>{prompt}</h1>\n",
    "<p>Your video recording of a Google and Bing search for {file_name} is attached.</p>\n",
    "<h3>Regards</h3></body></html>'''\n",
    "\n",
    "with open(from_email_txt) as fh:\n",
    "    email, paswd = [x.strip() for x in fh.readlines()]\n",
    "\n",
    "with open(to_email_txt) as fh:\n",
    "    mail_to = [x.strip() for x in fh.readlines()]\n",
    "\n",
    "server = smtplib.SMTP('smtp.gmail.com', 587)\n",
    "server.ehlo()\n",
    "server.starttls()\n",
    "server.login(email, paswd)\n",
    "\n",
    "msgdict = MIMEMultipart()\n",
    "msgdict.preamble = 'This is a multi-part message in MIME format.'\n",
    "msgdict['From'] = email\n",
    "msgdict['To'] = ', '.join([x for x in mail_to])\n",
    "msgdict['Subject'] = prompt\n",
    "\n",
    "# Create plain text and HTML alternatives\n",
    "msg_alts = MIMEMultipart('alternative')\n",
    "msgdict.attach(msg_alts)\n",
    "msg_alts.attach(MIMEText(msg_text))\n",
    "msg_alts.attach(MIMEText(msg_html, 'html'))\n",
    "\n",
    "mimecats = MIMEBase('application', 'octet-stream')\n",
    "with open(Path(output_mp4_file), 'br') as zfh:\n",
    "    mimecats.set_payload(zfh.read())\n",
    "encoders.encode_base64(mimecats)\n",
    "mimecats.add_header('Content-Disposition', f\"video; filename={file_name}\")\n",
    "msgdict.attach(mimecats)\n",
    "\n",
    "try:\n",
    "    server.sendmail(email, mail_to, msgdict.as_string())\n",
    "    print ('Email sent')\n",
    "except:\n",
    "    print ('error sending mail')\n",
    "\n",
    "server.quit()"
   ]
  },
  {
   "cell_type": "markdown",
   "id": "6853b994-9f03-486a-adea-8aa4a1b19f3b",
   "metadata": {},
   "source": [
    "## Creates service/chatshot.py file"
   ]
  },
  {
   "cell_type": "code",
   "execution_count": null,
   "id": "6f86bca4-c352-4634-be37-b65abeff9cad",
   "metadata": {},
   "outputs": [],
   "source": [
    "#| hide\n",
    "\n",
    "# This exports the above code as a .py file (Linux service)\n",
    "import nbdev\n",
    "\n",
    "nbdev.nbdev_export()"
   ]
  },
  {
   "cell_type": "code",
   "execution_count": null,
   "id": "2fa177c9-20c8-497b-9bb7-1a842003d749",
   "metadata": {},
   "outputs": [],
   "source": []
  }
 ],
 "metadata": {
  "kernelspec": {
   "display_name": "python3",
   "language": "python",
   "name": "python3"
  }
 },
 "nbformat": 4,
 "nbformat_minor": 5
}
